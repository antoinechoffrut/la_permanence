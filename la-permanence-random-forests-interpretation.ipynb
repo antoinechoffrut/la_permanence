{
 "cells": [
  {
   "cell_type": "markdown",
   "metadata": {},
   "source": [
    "# Random forest model interpretation on the La Permanence dataset\n",
    "\n",
    "This follows [Lesson 3](http://course18.fast.ai/lessonsml1/lesson3.html) and [Lesson 4](https://www.youtube.com/watch?v=0v93qHDqq_g) of fastai's [Introduction to Machine Learning for Coders](http://course18.fast.ai/ml).  Link to the [course repository](https://github.com/fastai/fastai/tree/master/courses/ml1).\n"
   ]
  },
  {
   "cell_type": "markdown",
   "metadata": {},
   "source": [
    "## Imports"
   ]
  },
  {
   "cell_type": "code",
   "execution_count": 1,
   "metadata": {},
   "outputs": [],
   "source": [
    "import os\n",
    "import sys\n",
    "import re\n",
    "# import tqdm  # class tqdm.tqdm imported from fastai.structured - see below\n",
    "\n",
    "import pytz\n",
    "import datetime\n",
    "\n",
    "import math\n",
    "import numpy as np\n",
    "import pandas as pd\n",
    "from sklearn.ensemble import RandomForestRegressor\n",
    "from scipy.cluster import hierarchy as hc\n",
    "\n",
    "sys.path.append(os.path.join(os.path.expanduser(\"~\"), \"Computing/fastai/old\"))\n",
    "from fastai.structured import *\n",
    "\n",
    "import matplotlib.pyplot as plt\n",
    "import seaborn as sns\n",
    "\n",
    "%matplotlib inline"
   ]
  },
  {
   "cell_type": "markdown",
   "metadata": {},
   "source": [
    "## Constants"
   ]
  },
  {
   "cell_type": "code",
   "execution_count": 2,
   "metadata": {},
   "outputs": [],
   "source": [
    "# Timezones\n",
    "tz_utc = pytz.timezone(\"UTC\")  # timestamp is in UTC standard\n",
    "tz_paris = pytz.timezone(\"Europe/Paris\")  # locations are in Paris, France\n",
    "\n",
    "# Resampling rule: resolution of time regularization\n",
    "RESOL = 10\n",
    "RULE = f\"{RESOL}T\"\n",
    "TWO_WEEKS = 2*7*24*(60 // RESOL)  # validation period is two weeks\n",
    "\n",
    "# Colors for plotting\n",
    "# COL_MOULIN = plt.rcParams['axes.prop_cycle'].by_key()['color'][0]\n",
    "# COL_ALESIA = plt.rcParams['axes.prop_cycle'].by_key()['color'][1]\n",
    "COL_TRAIN = plt.rcParams['axes.prop_cycle'].by_key()['color'][2]\n",
    "COL_VALID = plt.rcParams['axes.prop_cycle'].by_key()['color'][3]\n",
    "COL_PREDICT = plt.rcParams['axes.prop_cycle'].by_key()['color'][4]"
   ]
  },
  {
   "cell_type": "markdown",
   "metadata": {},
   "source": [
    "## Helper functions  \n"
   ]
  },
  {
   "cell_type": "code",
   "execution_count": 3,
   "metadata": {},
   "outputs": [],
   "source": [
    "def split_vals(df, n):\n",
    "    return df[:n].copy(), df[n:].copy()\n",
    "        \n",
    "def rmse(x,y): return math.sqrt(((x-y)**2).mean())\n",
    "\n",
    "def print_score(m):\n",
    "    res = [rmse(m.predict(X_train), y_train), rmse(m.predict(X_valid), y_valid),\n",
    "                m.score(X_train, y_train), m.score(X_valid, y_valid)]\n",
    "    if hasattr(m, 'oob_score_'): res.append(m.oob_score_)\n",
    "    print(res)"
   ]
  },
  {
   "cell_type": "markdown",
   "metadata": {},
   "source": [
    "## Data\n",
    "The dataset is saved in a `csv` file located in `~/Projects/la_permanence/attendance.csv`.  \n",
    "\n",
    "**Note**: `attendance.csv` is a misnomer, as the file actually records the number of *available* seats, rather than the number of seats used.  \n",
    "\n",
    "### Metadata on the dataset"
   ]
  },
  {
   "cell_type": "code",
   "execution_count": 4,
   "metadata": {},
   "outputs": [
    {
     "name": "stdout",
     "output_type": "stream",
     "text": [
      "File size:          1MB\n",
      "Number of rows:     41102\n",
      "Names of columns:   timestamp, Moulin, Alésia\n"
     ]
    }
   ],
   "source": [
    "filename = 'attendance.csv'\n",
    "foldername = 'Projects/la_permanence'\n",
    "filepath = os.path.join(os.path.expanduser(\"~\"), foldername, filename)\n",
    "filesize = os.path.getsize(filepath)\n",
    "\n",
    "COL_WIDTH = 20\n",
    "\n",
    "if filesize > 1e6:\n",
    "    print(\"{0}{1:d}MB\".format(\"File size:\".ljust(COL_WIDTH), filesize//int(1e6)))\n",
    "elif filesize > 1e3:\n",
    "    print(\"{0}{1:d}KB\".format(\"File size:\".ljust(COL_WIDTH), filesize//int(1e3)))\n",
    "else:\n",
    "    print(\"{0}{1:d}B\".format(\"File size:\".ljust(COL_WIDTH), filesize))\n",
    "\n",
    "line_number = !wc -l < {filepath}\n",
    "line_number = int(line_number[0])\n",
    "print(\"{0}{1}\".format(\"Number of rows:\".ljust(COL_WIDTH), line_number))\n",
    "first_row = !head -1 {filepath}\n",
    "column_names = first_row[0].split(',')\n",
    "print(\"{0}{1}\".format(\"Names of columns:\".ljust(COL_WIDTH), \", \".join(column_names)))\n"
   ]
  },
  {
   "cell_type": "markdown",
   "metadata": {},
   "source": [
    "### More details on the columns\n",
    "-  `timestamp` gives the date and time (UTC) of data collection in the format \"YYYY-MM-DD-hh-mm-ss\" where\n",
    "`YYYY=year`,\n",
    "`MM=month`,\n",
    "`DD=day`,\n",
    "`hh=hour`,\n",
    "`mm=minute`,\n",
    "`ss=second`;  \n",
    "-  `Moulin` gives the number of available seats at the rue du Fer à Moulin location (maximum is 63);\n",
    "-  `Alésia` gives the number of available seats at the rue d'Alésia location (maximum is 82).  \n",
    "\n",
    "### Load the data"
   ]
  },
  {
   "cell_type": "code",
   "execution_count": 5,
   "metadata": {},
   "outputs": [
    {
     "name": "stdout",
     "output_type": "stream",
     "text": [
      "CPU times: user 3 µs, sys: 1e+03 ns, total: 4 µs\n",
      "Wall time: 5.96 µs\n"
     ]
    }
   ],
   "source": [
    "# %%prun\n",
    "%time\n",
    "dateparse = lambda x: pd.datetime.strptime(x, '%Y-%m-%d-%H-%M-%S')\n",
    "\n",
    "raw_data = pd.read_csv(\n",
    "    filepath,\n",
    "    sep=',',\n",
    "    dtype={'Moulin': np.uint8, 'Alésia': np.uint8},\n",
    "    parse_dates=['timestamp'],\n",
    "    date_parser=dateparse\n",
    ")"
   ]
  },
  {
   "cell_type": "markdown",
   "metadata": {},
   "source": [
    "### Adjusting for timezones\n",
    "\n",
    "The `timestamp` values are in the UTC standard, while the coworking spaces are located in Paris, France:"
   ]
  },
  {
   "cell_type": "code",
   "execution_count": 6,
   "metadata": {},
   "outputs": [
    {
     "name": "stdout",
     "output_type": "stream",
     "text": [
      "CPU times: user 3 µs, sys: 0 ns, total: 3 µs\n",
      "Wall time: 5.01 µs\n"
     ]
    }
   ],
   "source": [
    "%time\n",
    "raw_data['timestamp'] = raw_data['timestamp'].apply(lambda ts: ts.tz_localize(tz_utc).tz_convert(tz_paris))"
   ]
  },
  {
   "cell_type": "markdown",
   "metadata": {},
   "source": [
    "### Time regularization\n",
    "\n",
    "The data is collected at irregular times and thus we resample (at a resolution specified in `RULE`) and interpolate to regularize the data:"
   ]
  },
  {
   "cell_type": "code",
   "execution_count": 7,
   "metadata": {},
   "outputs": [],
   "source": [
    "raw_data.set_index(\"timestamp\", inplace=True)\n",
    "raw_data = raw_data.resample(RULE).mean().interpolate().round().astype(np.uint8)\n",
    "raw_data.reset_index('timestamp', inplace=True)"
   ]
  },
  {
   "cell_type": "markdown",
   "metadata": {},
   "source": [
    "### Expanding date information\n",
    "\n",
    "The data is a pure time series: the only independent variable (or feature) is the timestamp.  In order to use random forests, we expand this data into distinct features: `Year`, `Month`, `Week`, `Day`, `Dayofweek`, `Dayofyear`, `Is_month_end`, `Is_month_start`, `Is_quarter_end`, `Is_quarter_start`, `Is_year_end`, `Is_year_start`, `Hour`, `Minute`, `Second`.  Of course, not all of these will be useful or even relevant, and the purpose of this notebook is to measure the relative relevance of these features.  "
   ]
  },
  {
   "cell_type": "code",
   "execution_count": 8,
   "metadata": {},
   "outputs": [],
   "source": [
    "timestamps = raw_data.loc[:, ['timestamp']]\n",
    "add_datepart(raw_data, 'timestamp', time=True)"
   ]
  },
  {
   "cell_type": "markdown",
   "metadata": {},
   "source": [
    "## Rue du Fer à Moulin\n",
    "We begin with the data from rue du Fer à Moulin.\n",
    "\n",
    "### Separating dependent from independent variables  "
   ]
  },
  {
   "cell_type": "code",
   "execution_count": 9,
   "metadata": {},
   "outputs": [],
   "source": [
    "df_trn, y_trn, nas = proc_df(raw_data.drop('Alésia', axis=1), 'Moulin')"
   ]
  },
  {
   "cell_type": "markdown",
   "metadata": {},
   "source": [
    "### Splitting data into training and validation sets  "
   ]
  },
  {
   "cell_type": "code",
   "execution_count": 10,
   "metadata": {},
   "outputs": [],
   "source": [
    "n_valid = TWO_WEEKS  \n",
    "n_trn = raw_data.shape[0] - n_valid\n",
    "\n",
    "X_train, X_valid = split_vals(df_trn, n_trn)\n",
    "y_train, y_valid = split_vals(y_trn, n_trn)\n",
    "raw_train, raw_valid = split_vals(raw_data, n_trn)\n",
    "\n",
    "# For plotting purposes:\n",
    "timestamps_train = timestamps.iloc[0:n_trn].copy()\n",
    "timestamps_valid = timestamps.iloc[n_trn:].copy()"
   ]
  },
  {
   "cell_type": "markdown",
   "metadata": {},
   "source": [
    "**Note.**  Since the dataset is small, we will use all of it (unlike in the fastai videos where the dataset consists of 400k records).\n",
    "\n",
    "### Model parameters\n",
    "\n",
    "For rue du Fer à Moulin, following `la-permanence-random-forests-parameter.ipynb` we set:"
   ]
  },
  {
   "cell_type": "code",
   "execution_count": 11,
   "metadata": {},
   "outputs": [],
   "source": [
    "nb_trees, min_leaves = 100, 50"
   ]
  },
  {
   "cell_type": "markdown",
   "metadata": {},
   "source": [
    "Note that we do not fix any value for `max_features` as the purpose of this notebook is to understand the relative importance of the features in the model.\n",
    "\n",
    "### Train the random forest"
   ]
  },
  {
   "cell_type": "code",
   "execution_count": 12,
   "metadata": {},
   "outputs": [
    {
     "name": "stdout",
     "output_type": "stream",
     "text": [
      "[4.558728740940538, 6.591911054831406, 0.9299023680107288, 0.8844322274799904]\n"
     ]
    }
   ],
   "source": [
    "m = RandomForestRegressor(n_jobs=-1, n_estimators=nb_trees, min_samples_leaf=min_leaves)\n",
    "m.fit(X_train, y_train)\n",
    "print_score(m)"
   ]
  },
  {
   "cell_type": "markdown",
   "metadata": {},
   "source": [
    "## Feature importance\n",
    "\n",
    "A useful tool to understand how a model arrives at a particular result is to calculate the **feature importance**:"
   ]
  },
  {
   "cell_type": "code",
   "execution_count": 13,
   "metadata": {},
   "outputs": [],
   "source": [
    "fi = rf_feat_importance(m, df_trn)"
   ]
  },
  {
   "cell_type": "code",
   "execution_count": 14,
   "metadata": {
    "scrolled": true
   },
   "outputs": [
    {
     "data": {
      "image/png": "[encoded data removed]",
      "text/plain": [
       "<Figure size 1152x360 with 1 Axes>"
      ]
     },
     "metadata": {
      "needs_background": "light"
     },
     "output_type": "display_data"
    }
   ],
   "source": [
    "fig, ax = plt.subplots(figsize=(16, 5));\n",
    "fi.plot('cols', 'imp', 'barh', ax=ax, legend=False, alpha=0.7);\n",
    "for i, v in enumerate(fi['imp']):\n",
    "    ax.text(v + .005, i + .2, \"{:.4f}\".format(v), color=plt.rcParams['axes.prop_cycle'].by_key()['color'][0], fontweight='bold');\n",
    "ax.set_ylim([-1, fi.shape[0]+1])\n",
    "ax.set_title(\"Feature importance\", fontsize=18);\n",
    "ax.axes.get_yaxis().label.set_visible(False);\n",
    "plt.grid();"
   ]
  },
  {
   "cell_type": "markdown",
   "metadata": {},
   "source": [
    "### First impressions\n",
    "This table looks mostly as expected and we can interpret these results as follows.  The order of importance may vary from one trial to the next.\n",
    "\n",
    "- The `Hour` has the highest importance, which is logical as it controls the 24-hour seasonality, the strongest seasonality in the data.  \n",
    "- The `Dayofweek` has high importance (usually the second highest) as it controls the second strongest seasonality: the 7-day seasonality.  \n",
    "- The `Elapsed` time has (usually) the next highest importance.  This can be explained by the fact that it picks the general trend in the data, once seasonality is removed.  The `Dayofyear` and the `Day` (of month) follow closely in importance.  This is because they are closely related to the `Elapsed` time given that the timespan of the data is rather short (as of now).  \n",
    "- The `Week` is also related to the `Elapsed` time, but plays little role as it is a very crude approximation of it.  \n",
    "- The precise time within an hour (`Minute`) has little importance.  This is perhaps due to the quality of the data: in this particular dataset, data is collected at irregular times and thus regularized and interpolated.  Working with more precise data (collected every minute, say) will probably yield more accurate results, where `Minute` has a higher importance.  \n",
    "- For such a short timespan, the `Month` features have very little importance.  \n",
    "- Since the data is all near the beginning of the same year, the features with `Year`, `Is_year_end`, `Is_year_start`, `Is_quarter_end`, `Is_quarter_start` play absolutely no role.  \n",
    "- The `Second` clearly plays no role as it takes only one value (0).  "
   ]
  },
  {
   "cell_type": "code",
   "execution_count": 15,
   "metadata": {},
   "outputs": [],
   "source": [
    "to_keep = fi[fi.imp>0.002].cols\n",
    "df_keep = df_trn[to_keep].copy()\n",
    "X_train, X_valid = split_vals(df_keep, n_trn)"
   ]
  },
  {
   "cell_type": "code",
   "execution_count": 16,
   "metadata": {},
   "outputs": [
    {
     "name": "stdout",
     "output_type": "stream",
     "text": [
      "[4.553544798664627, 6.700979361035998, 0.9300616999162779, 0.8805762715790353]\n"
     ]
    }
   ],
   "source": [
    "m = RandomForestRegressor(n_estimators=nb_trees, min_samples_leaf=min_leaves, n_jobs=-1)\n",
    "m.fit(X_train, y_train)\n",
    "print_score(m)"
   ]
  },
  {
   "cell_type": "code",
   "execution_count": 17,
   "metadata": {},
   "outputs": [],
   "source": [
    "fi = rf_feat_importance(m, df_keep)"
   ]
  },
  {
   "cell_type": "code",
   "execution_count": 18,
   "metadata": {},
   "outputs": [
    {
     "data": {
      "image/png": "[encoded data removed]",
      "text/plain": [
       "<Figure size 1152x360 with 1 Axes>"
      ]
     },
     "metadata": {
      "needs_background": "light"
     },
     "output_type": "display_data"
    }
   ],
   "source": [
    "fig, ax = plt.subplots(figsize=(16, 5));\n",
    "ax.set_title(\"Feature importance\", fontsize=18);\n",
    "fi.plot('cols', 'imp', 'barh', ax=ax, legend=False, alpha=0.7);\n",
    "for i, v in enumerate(fi['imp']):\n",
    "    ax.text(v + .002, i + .2, \"{:.4f}\".format(v), color=plt.rcParams['axes.prop_cycle'].by_key()['color'][0], fontweight='bold');\n",
    "ax.set_ylim([-1, fi.shape[0]+1])\n",
    "ax.axes.get_yaxis().label.set_visible(False);\n",
    "plt.grid();"
   ]
  },
  {
   "cell_type": "markdown",
   "metadata": {},
   "source": [
    "## Removing redundant features using hierarchical clustering"
   ]
  },
  {
   "cell_type": "code",
   "execution_count": 19,
   "metadata": {},
   "outputs": [
    {
     "data": {
      "image/png": "[encoded data removed]",
      "text/plain": [
       "<Figure size 1152x432 with 1 Axes>"
      ]
     },
     "metadata": {
      "needs_background": "light"
     },
     "output_type": "display_data"
    }
   ],
   "source": [
    "corr = np.round(scipy.stats.spearmanr(df_keep).correlation, 4)\n",
    "corr_condensed = hc.distance.squareform(1 - corr)\n",
    "z = hc.linkage(corr_condensed, method='average')\n",
    "\n",
    "fig = plt.figure(figsize=(16, 6));\n",
    "dendrogram = hc.dendrogram(z, labels=df_keep.columns, orientation='left', leaf_font_size=16);"
   ]
  },
  {
   "cell_type": "code",
   "execution_count": 20,
   "metadata": {},
   "outputs": [
    {
     "name": "stdout",
     "output_type": "stream",
     "text": [
      "Score with timestampElapsed   removed: 0.8914697544692658\n",
      "Score with timestampDayofyear removed: 0.8822006828408545\n"
     ]
    }
   ],
   "source": [
    "for feat in ['timestampElapsed', 'timestampDayofyear']:\n",
    "    m = RandomForestRegressor(n_jobs=-1, n_estimators=nb_trees, min_samples_leaf=min_leaves)\n",
    "    x, _ = split_vals(df_keep.drop(feat, axis=1), n_trn)\n",
    "    m.fit(x, y_train)\n",
    "    print(\"Score with {0} removed: {1}\".format(feat.ljust(18), m.score(X_valid.drop(feat, axis=1), y_valid)))"
   ]
  },
  {
   "cell_type": "markdown",
   "metadata": {},
   "source": [
    "The difference is very small, but the score with `timestampElapsed` removed is consistently better than that with `Dayofyear` removed.  This is a bit counter-intuitive as its importance is definitely higher."
   ]
  }
 ],
 "metadata": {
  "kernelspec": {
   "display_name": "Python 3",
   "language": "python",
   "name": "python3"
  },
  "language_info": {
   "codemirror_mode": {
    "name": "ipython",
    "version": 3
   },
   "file_extension": ".py",
   "mimetype": "text/x-python",
   "name": "python",
   "nbconvert_exporter": "python",
   "pygments_lexer": "ipython3",
   "version": "3.6.8"
  }
 },
 "nbformat": 4,
 "nbformat_minor": 2
}
