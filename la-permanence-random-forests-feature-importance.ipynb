{
 "cells": [
  {
   "cell_type": "markdown",
   "metadata": {},
   "source": [
    "# Random forest model interpretation on the La Permanence dataset\n",
    "\n",
    "This follows [Lesson 3](http://course18.fast.ai/lessonsml1/lesson3.html) and [Lesson 4](https://www.youtube.com/watch?v=0v93qHDqq_g) of fastai's [Introduction to Machine Learning for Coders](http://course18.fast.ai/ml).  Link to the [course repository](https://github.com/fastai/fastai/tree/master/courses/ml1).\n"
   ]
  },
  {
   "cell_type": "markdown",
   "metadata": {},
   "source": [
    "## Imports"
   ]
  },
  {
   "cell_type": "code",
   "execution_count": 1,
   "metadata": {},
   "outputs": [],
   "source": [
    "import os\n",
    "import sys\n",
    "import re\n",
    "# import tqdm  # class tqdm.tqdm imported from fastai.structured - see below\n",
    "\n",
    "import pytz\n",
    "import datetime\n",
    "\n",
    "import math\n",
    "import numpy as np\n",
    "import pandas as pd\n",
    "from sklearn.ensemble import RandomForestRegressor\n",
    "from scipy.cluster import hierarchy as hc\n",
    "\n",
    "sys.path.append(os.path.join(os.path.expanduser(\"~\"), \"Computing/fastai/old\"))\n",
    "from fastai.structured import *\n",
    "\n",
    "import matplotlib.pyplot as plt\n",
    "import seaborn as sns\n",
    "\n",
    "%matplotlib inline"
   ]
  },
  {
   "cell_type": "markdown",
   "metadata": {},
   "source": [
    "## Constants"
   ]
  },
  {
   "cell_type": "code",
   "execution_count": 2,
   "metadata": {},
   "outputs": [],
   "source": [
    "# Timezones\n",
    "tz_utc = pytz.timezone(\"UTC\")  # timestamp is in UTC standard\n",
    "tz_paris = pytz.timezone(\"Europe/Paris\")  # locations are in Paris, France\n",
    "\n",
    "# Resampling rule: resolution of time regularization\n",
    "RESOL = 2  # 10\n",
    "RULE = f\"{RESOL}T\"\n",
    "TWO_WEEKS = 2*7*24*(60 // RESOL)  # validation period is two weeks\n",
    "\n",
    "# Colors for plotting\n",
    "# COL_MOULIN = plt.rcParams['axes.prop_cycle'].by_key()['color'][0]\n",
    "# COL_ALESIA = plt.rcParams['axes.prop_cycle'].by_key()['color'][1]\n",
    "COL_TRAIN = plt.rcParams['axes.prop_cycle'].by_key()['color'][2]\n",
    "COL_VALID = plt.rcParams['axes.prop_cycle'].by_key()['color'][3]\n",
    "COL_PREDICT = plt.rcParams['axes.prop_cycle'].by_key()['color'][4]"
   ]
  },
  {
   "cell_type": "markdown",
   "metadata": {},
   "source": [
    "## Helper functions  \n"
   ]
  },
  {
   "cell_type": "code",
   "execution_count": 3,
   "metadata": {},
   "outputs": [],
   "source": [
    "def split_vals(df, n):\n",
    "    return df[:n].copy(), df[n:].copy()\n",
    "        \n",
    "def rmse(x,y): return math.sqrt(((x-y)**2).mean())\n",
    "\n",
    "def print_score(m):\n",
    "    res = [rmse(m.predict(X_train), y_train), rmse(m.predict(X_valid), y_valid),\n",
    "                m.score(X_train, y_train), m.score(X_valid, y_valid)]\n",
    "    if hasattr(m, 'oob_score_'): res.append(m.oob_score_)\n",
    "    print(res)"
   ]
  },
  {
   "cell_type": "markdown",
   "metadata": {},
   "source": [
    "## Data\n",
    "The dataset is saved in a `csv` file located in `~/Projects/la_permanence/attendance.csv`.  \n",
    "\n",
    "**Note**: `attendance.csv` is a misnomer, as the file actually records the number of *available* seats, rather than the number of seats used.  \n",
    "\n",
    "### Metadata on the dataset"
   ]
  },
  {
   "cell_type": "code",
   "execution_count": 4,
   "metadata": {},
   "outputs": [
    {
     "name": "stdout",
     "output_type": "stream",
     "text": [
      "File size:          1MB\n",
      "Number of rows:     43262\n",
      "Names of columns:   timestamp, Moulin, Alésia\n"
     ]
    }
   ],
   "source": [
    "filename = 'attendance.csv'\n",
    "foldername = 'Projects/la_permanence'\n",
    "filepath = os.path.join(os.path.expanduser(\"~\"), foldername, filename)\n",
    "filesize = os.path.getsize(filepath)\n",
    "\n",
    "COL_WIDTH = 20\n",
    "\n",
    "if filesize > 1e6:\n",
    "    print(\"{0}{1:d}MB\".format(\"File size:\".ljust(COL_WIDTH), filesize//int(1e6)))\n",
    "elif filesize > 1e3:\n",
    "    print(\"{0}{1:d}KB\".format(\"File size:\".ljust(COL_WIDTH), filesize//int(1e3)))\n",
    "else:\n",
    "    print(\"{0}{1:d}B\".format(\"File size:\".ljust(COL_WIDTH), filesize))\n",
    "\n",
    "line_number = !wc -l < {filepath}\n",
    "line_number = int(line_number[0])\n",
    "print(\"{0}{1}\".format(\"Number of rows:\".ljust(COL_WIDTH), line_number))\n",
    "first_row = !head -1 {filepath}\n",
    "column_names = first_row[0].split(',')\n",
    "print(\"{0}{1}\".format(\"Names of columns:\".ljust(COL_WIDTH), \", \".join(column_names)))\n"
   ]
  },
  {
   "cell_type": "markdown",
   "metadata": {},
   "source": [
    "### More details on the columns\n",
    "-  `timestamp` gives the date and time (UTC) of data collection in the format \"YYYY-MM-DD-hh-mm-ss\" where\n",
    "`YYYY=year`,\n",
    "`MM=month`,\n",
    "`DD=day`,\n",
    "`hh=hour`,\n",
    "`mm=minute`,\n",
    "`ss=second`;  \n",
    "-  `Moulin` gives the number of available seats at the rue du Fer à Moulin location (maximum is 63);\n",
    "-  `Alésia` gives the number of available seats at the rue d'Alésia location (maximum is 82).  \n",
    "\n",
    "### Load the data"
   ]
  },
  {
   "cell_type": "code",
   "execution_count": 5,
   "metadata": {},
   "outputs": [
    {
     "name": "stdout",
     "output_type": "stream",
     "text": [
      "CPU times: user 3 µs, sys: 1e+03 ns, total: 4 µs\n",
      "Wall time: 7.15 µs\n"
     ]
    }
   ],
   "source": [
    "# %%prun\n",
    "%time\n",
    "dateparse = lambda x: pd.datetime.strptime(x, '%Y-%m-%d-%H-%M-%S')\n",
    "\n",
    "raw_data = pd.read_csv(\n",
    "    filepath,\n",
    "    sep=',',\n",
    "    dtype={'Moulin': np.uint8, 'Alésia': np.uint8},\n",
    "    parse_dates=['timestamp'],\n",
    "    date_parser=dateparse\n",
    ")"
   ]
  },
  {
   "cell_type": "markdown",
   "metadata": {},
   "source": [
    "### Adjusting for timezones\n",
    "\n",
    "The `timestamp` values are in the UTC standard, while the coworking spaces are located in Paris, France:"
   ]
  },
  {
   "cell_type": "code",
   "execution_count": 6,
   "metadata": {},
   "outputs": [
    {
     "name": "stdout",
     "output_type": "stream",
     "text": [
      "CPU times: user 2 µs, sys: 1 µs, total: 3 µs\n",
      "Wall time: 4.77 µs\n"
     ]
    }
   ],
   "source": [
    "%time\n",
    "raw_data['timestamp'] = raw_data['timestamp'].apply(lambda ts: ts.tz_localize(tz_utc).tz_convert(tz_paris))"
   ]
  },
  {
   "cell_type": "markdown",
   "metadata": {},
   "source": [
    "### Time regularization\n",
    "\n",
    "The data is collected at irregular times and thus we resample (at a resolution specified in `RULE`) and interpolate to regularize the data:"
   ]
  },
  {
   "cell_type": "code",
   "execution_count": 7,
   "metadata": {},
   "outputs": [],
   "source": [
    "raw_data.set_index(\"timestamp\", inplace=True)\n",
    "raw_data = raw_data.resample(RULE).mean().interpolate().round().astype(np.uint8)\n",
    "raw_data.reset_index('timestamp', inplace=True)"
   ]
  },
  {
   "cell_type": "markdown",
   "metadata": {},
   "source": [
    "### Expanding date information\n",
    "\n",
    "The data is a pure time series: the only independent variable (or feature) is the timestamp.  In order to use random forests, we expand this data into distinct features: `Year`, `Month`, `Week`, `Day`, `Dayofweek`, `Dayofyear`, `Is_month_end`, `Is_month_start`, `Is_quarter_end`, `Is_quarter_start`, `Is_year_end`, `Is_year_start`, `Hour`, `Minute`, `Second`.  Of course, not all of these will be useful or even relevant, and the purpose of this notebook is to measure the relative relevance of these features.  "
   ]
  },
  {
   "cell_type": "code",
   "execution_count": 8,
   "metadata": {},
   "outputs": [],
   "source": [
    "timestamps = raw_data.loc[:, ['timestamp']]\n",
    "add_datepart(raw_data, 'timestamp', time=True)"
   ]
  },
  {
   "cell_type": "markdown",
   "metadata": {},
   "source": [
    "## Rue du Fer à Moulin\n",
    "We begin with the data from rue du Fer à Moulin.\n",
    "\n",
    "### Separating dependent from independent variables  "
   ]
  },
  {
   "cell_type": "code",
   "execution_count": 9,
   "metadata": {},
   "outputs": [],
   "source": [
    "df_trn, y_trn, nas = proc_df(raw_data.drop('Alésia', axis=1), 'Moulin')"
   ]
  },
  {
   "cell_type": "markdown",
   "metadata": {},
   "source": [
    "### Splitting data into training and validation sets  "
   ]
  },
  {
   "cell_type": "code",
   "execution_count": 10,
   "metadata": {},
   "outputs": [],
   "source": [
    "n_valid = TWO_WEEKS  \n",
    "n_trn = raw_data.shape[0] - n_valid\n",
    "\n",
    "X_train, X_valid = split_vals(df_trn, n_trn)\n",
    "y_train, y_valid = split_vals(y_trn, n_trn)\n",
    "raw_train, raw_valid = split_vals(raw_data, n_trn)\n",
    "\n",
    "# For plotting purposes:\n",
    "timestamps_train = timestamps.iloc[0:n_trn].copy()\n",
    "timestamps_valid = timestamps.iloc[n_trn:].copy()"
   ]
  },
  {
   "cell_type": "markdown",
   "metadata": {},
   "source": [
    "**Note.**  Since the dataset is small, we will use all of it (unlike in the fastai videos where the dataset consists of 400k records).\n",
    "\n",
    "### Model parameters\n",
    "\n",
    "For rue du Fer à Moulin, following `la-permanence-random-forests-parameter.ipynb` we set:"
   ]
  },
  {
   "cell_type": "code",
   "execution_count": 11,
   "metadata": {},
   "outputs": [],
   "source": [
    "nb_trees, min_leaves = 100, 50"
   ]
  },
  {
   "cell_type": "markdown",
   "metadata": {},
   "source": [
    "Note that we do not fix any value for `max_features` as the purpose of this notebook is to understand the relative importance of the features in the model.\n",
    "\n",
    "### Train the random forest"
   ]
  },
  {
   "cell_type": "code",
   "execution_count": 12,
   "metadata": {},
   "outputs": [
    {
     "name": "stdout",
     "output_type": "stream",
     "text": [
      "[2.7705454633640105, 7.140463814048747, 0.9746586050698913, 0.8625346557381706]\n"
     ]
    }
   ],
   "source": [
    "m = RandomForestRegressor(n_jobs=-1, n_estimators=nb_trees, min_samples_leaf=min_leaves)\n",
    "m.fit(X_train, y_train)\n",
    "print_score(m)"
   ]
  },
  {
   "cell_type": "markdown",
   "metadata": {},
   "source": [
    "## Feature importance\n",
    "\n",
    "A useful tool to understand how a model arrives at a particular result is to calculate the **feature importance**:"
   ]
  },
  {
   "cell_type": "code",
   "execution_count": 13,
   "metadata": {},
   "outputs": [],
   "source": [
    "fi = rf_feat_importance(m, df_trn)"
   ]
  },
  {
   "cell_type": "code",
   "execution_count": 14,
   "metadata": {
    "scrolled": true
   },
   "outputs": [
    {
     "data": {
      "image/png": "[encoded data removed]",
      "text/plain": [
       "<Figure size 1152x360 with 1 Axes>"
      ]
     },
     "metadata": {
      "needs_background": "light"
     },
     "output_type": "display_data"
    }
   ],
   "source": [
    "fig, ax = plt.subplots(figsize=(16, 5));\n",
    "fi.plot('cols', 'imp', 'barh', ax=ax, legend=False, alpha=0.7);\n",
    "for i, v in enumerate(fi['imp']):\n",
    "    ax.text(v + .005, i + .2, \"{:.4f}\".format(v), color=plt.rcParams['axes.prop_cycle'].by_key()['color'][0], fontweight='bold');\n",
    "ax.set_ylim([-1, fi.shape[0]+1])\n",
    "ax.set_title(\"Feature importance\", fontsize=18);\n",
    "ax.axes.get_yaxis().label.set_visible(False);\n",
    "plt.grid();"
   ]
  },
  {
   "cell_type": "markdown",
   "metadata": {},
   "source": [
    "### First observations  \n",
    "This table looks mostly as expected and we can interpret these results as follows.  The order of importance may vary from one trial to the next.\n",
    "\n",
    "- The `Hour` has the highest importance, which is logical as it controls the 24-hour seasonality, the strongest seasonality in the data.  \n",
    "- The `Dayofweek` has high importance (usually the second highest) as it controls the second strongest seasonality: the 7-day seasonality.  \n",
    "- The `Elapsed` time has (usually) the next highest importance.  This can be explained by the fact that it picks the general trend in the data, once seasonality is removed.  The `Dayofyear` and the `Day` (of month) follow closely in importance.  This is because they are closely related to the `Elapsed` time given that the timespan of the data is rather short (as of now).  \n",
    "- The `Week` is also related to the `Elapsed` time, but plays little role as it is a very crude approximation of it.  \n",
    "- The precise time within an hour (`Minute`) has little importance.  This is perhaps due to the quality of the data: in this particular dataset, data is collected at irregular times and thus regularized and interpolated.  Working with more precise data (collected every minute, say) will probably yield more accurate results, where `Minute` has a higher importance.  \n",
    "- For such a short timespan, the `Month` features have very little importance.  \n",
    "- Since the data is all near the beginning of the same year, the features with `Year`, `Is_year_end`, `Is_year_start`, `Is_quarter_end`, `Is_quarter_start` play absolutely no role.  \n",
    "- The `Second` clearly plays no role as it takes only one value (0).  \n",
    "\n",
    "\n",
    "Moving on we do not need to keep all features.  How to decide which features to throw away?  Should we select by feature importance?  What should be the threshold?  If we place this threshold too high, we may be removing features which become more important than others higher in the list, once they are combined with yet another feature.  \n",
    "\n",
    "Thinking more specifically about the type of data at hand, it is clear that `Dayofweek` is important as it controls the 7-day seasonality in the data.  On the other hand, since we want a resolution of the order of the minute, we should logically expect that the 24-hour seasonality be controled by the `Hour` and `Minute` together.  In hindsight, instead of these two separate features, we should use a different feature, namely `Minuteofday`:"
   ]
  },
  {
   "cell_type": "code",
   "execution_count": 15,
   "metadata": {},
   "outputs": [],
   "source": [
    "raw_data['timestampMinuteofday'] = 60*raw_data['timestampHour'] + raw_data['timestampMinute']"
   ]
  },
  {
   "cell_type": "markdown",
   "metadata": {},
   "source": [
    "On the other hand, this feature is actually quite closely related to `Elapsed` time, which is information at a resolution of the minute (in fact, much more precise).  But `Elapsed` time gives us another kind of information: it gives us (or at least we strongly believe that it does) the trend in the data in the sense of seasonal decomposition.  Look at the list of feature, the next feature (in order of resolution) giving us the same kind of information is `Dayofyear`, recalling that our data is entirely within the same year.  The next such feature is `Week`.\n",
    "\n",
    "Looking down the list, combining the `Day` of month and `Week`, we can recover the `Dayofyear`, and it is probably the only really useful information that the model uses out of `Day` of month and `Week`.\n",
    "\n",
    "### Feature engineering\n",
    "\n",
    "The considerations above suggest to use the following set of features:  \n",
    "- `Week`, \n",
    "- `Dayofweek`; and\n",
    "- `Minuteofday`.\n",
    "\n",
    "Alternatively, \n",
    "- `Dayofyear`;\n",
    "- `Dayofweek`; and\n",
    "- `Minuteofday`.  \n",
    "\n",
    "Note that the first set of features will take less memory.  This is not an issue for our dataset, which is not very large at the moment.  "
   ]
  },
  {
   "cell_type": "code",
   "execution_count": 16,
   "metadata": {},
   "outputs": [],
   "source": [
    "to_keep = ['timestamp'+feat for feat in ['Week', 'Dayofweek', 'Minuteofday']]\n",
    "\n",
    "df_keep, y_keep, nas = proc_df(raw_data[to_keep + ['Moulin']], 'Moulin')\n",
    "\n",
    "df_keep['timestampWeek'].astype(np.uint8)\n",
    "df_keep['timestampDayofweek'].astype(np.uint8)\n",
    "df_keep['timestampMinuteofday'].astype(np.uint16)\n",
    "\n",
    "X_train, X_valid = split_vals(df_keep, n_trn)"
   ]
  },
  {
   "cell_type": "code",
   "execution_count": 17,
   "metadata": {},
   "outputs": [
    {
     "name": "stdout",
     "output_type": "stream",
     "text": [
      "[3.0702866652764444, 6.632704076941108, 0.9688786944349697, 0.8813899137989392]\n"
     ]
    }
   ],
   "source": [
    "m = RandomForestRegressor(n_jobs=-1, n_estimators=nb_trees, min_samples_leaf=min_leaves)\n",
    "m.fit(X_train, y_train)\n",
    "print_score(m)"
   ]
  },
  {
   "cell_type": "markdown",
   "metadata": {},
   "source": [
    "Observe how the validation metrics have improved (this seems to persist from trial to trial)."
   ]
  },
  {
   "cell_type": "code",
   "execution_count": 18,
   "metadata": {},
   "outputs": [
    {
     "data": {
      "image/png": "[encoded data removed]",
      "text/plain": [
       "<Figure size 1152x360 with 1 Axes>"
      ]
     },
     "metadata": {
      "needs_background": "light"
     },
     "output_type": "display_data"
    }
   ],
   "source": [
    "fi = rf_feat_importance(m, df_keep)\n",
    "\n",
    "fig, ax = plt.subplots(figsize=(16, 5));\n",
    "ax.set_title(\"Feature importance\", fontsize=18);\n",
    "fi.plot('cols', 'imp', 'barh', ax=ax, legend=False, alpha=0.7);\n",
    "for i, v in enumerate(fi['imp']):\n",
    "    ax.text(v + .002, i + .2, \"{:.4f}\".format(v), color=plt.rcParams['axes.prop_cycle'].by_key()['color'][0], fontweight='bold');\n",
    "ax.set_ylim([-1, fi.shape[0]+1])\n",
    "ax.axes.get_yaxis().label.set_visible(False);\n",
    "plt.grid();"
   ]
  },
  {
   "cell_type": "markdown",
   "metadata": {},
   "source": [
    "For purpose of exploration, let's try with another set of features:"
   ]
  },
  {
   "cell_type": "code",
   "execution_count": 19,
   "metadata": {},
   "outputs": [],
   "source": [
    "to_keep = ['timestamp'+feat for feat in ['Dayofyear', 'Dayofweek', 'Minuteofday']]\n",
    "\n",
    "df_keep, y_keep, nas = proc_df(raw_data[to_keep + ['Moulin']], 'Moulin')\n",
    "\n",
    "df_keep['timestampDayofyear'].astype(np.uint16)\n",
    "df_keep['timestampDayofweek'].astype(np.uint8)\n",
    "df_keep['timestampMinuteofday'].astype(np.uint16)\n",
    "X_train, X_valid = split_vals(df_keep, n_trn)"
   ]
  },
  {
   "cell_type": "code",
   "execution_count": 20,
   "metadata": {},
   "outputs": [
    {
     "name": "stdout",
     "output_type": "stream",
     "text": [
      "[2.8407042588386524, 6.88777846491312, 0.9733589093880027, 0.8720917022291985]\n"
     ]
    }
   ],
   "source": [
    "m = RandomForestRegressor(n_jobs=-1, n_estimators=nb_trees, min_samples_leaf=min_leaves)\n",
    "m.fit(X_train, y_train)\n",
    "print_score(m)"
   ]
  },
  {
   "cell_type": "code",
   "execution_count": 21,
   "metadata": {},
   "outputs": [
    {
     "data": {
      "image/png": "[encoded data removed]",
      "text/plain": [
       "<Figure size 1152x360 with 1 Axes>"
      ]
     },
     "metadata": {
      "needs_background": "light"
     },
     "output_type": "display_data"
    }
   ],
   "source": [
    "fi = rf_feat_importance(m, df_keep)\n",
    "\n",
    "fig, ax = plt.subplots(figsize=(16, 5));\n",
    "ax.set_title(\"Feature importance\", fontsize=18);\n",
    "fi.plot('cols', 'imp', 'barh', ax=ax, legend=False, alpha=0.7);\n",
    "for i, v in enumerate(fi['imp']):\n",
    "    ax.text(v + .002, i + .2, \"{:.4f}\".format(v), color=plt.rcParams['axes.prop_cycle'].by_key()['color'][0], fontweight='bold');\n",
    "ax.set_ylim([-1, fi.shape[0]+1])\n",
    "ax.axes.get_yaxis().label.set_visible(False);\n",
    "plt.grid();"
   ]
  },
  {
   "cell_type": "markdown",
   "metadata": {},
   "source": [
    "### A more systematic analysis of the performance"
   ]
  },
  {
   "cell_type": "code",
   "execution_count": 36,
   "metadata": {},
   "outputs": [
    {
     "name": "stdout",
     "output_type": "stream",
     "text": [
      "Use all features\n",
      "100%|██████████| 20/20 [00:27<00:00,  1.42s/it]\n",
      "Use feature subset 1\n",
      "100%|██████████| 20/20 [00:17<00:00,  1.14it/s]\n",
      "Use feature subset 2\n",
      "100%|██████████| 20/20 [00:17<00:00,  1.13it/s]\n"
     ]
    }
   ],
   "source": [
    "Ntrials = 20 # 5 # 30  # 10  # \n",
    "\n",
    "performance_list = []\n",
    "\n",
    "# All features\n",
    "print(\"Use all features\")\n",
    "X_train, X_valid = split_vals(df_trn, n_trn)\n",
    "\n",
    "for n in tqdm(range(Ntrials)):\n",
    "    m = RandomForestRegressor(n_jobs=-1, n_estimators=nb_trees, min_samples_leaf=min_leaves)\n",
    "    m.fit(X_train, y_train)\n",
    "    D = {\n",
    "        'feature set': 'all',\n",
    "        'rmse (train)': rmse(m.predict(X_train), y_train),\n",
    "        'R2 (train)': m.score(X_train, y_train),\n",
    "        'rmse (valid)': rmse(m.predict(X_valid), y_valid),\n",
    "        'R2 (valid)': m.score(X_valid, y_valid)\n",
    "    }\n",
    "    performance_list.append(D)\n",
    "    \n",
    "# Subset 1\n",
    "print(\"Use feature subset 1\")\n",
    "to_keep = ['timestamp'+feat for feat in ['Week', 'Dayofweek', 'Minuteofday']]\n",
    "\n",
    "df_keep, y_keep, nas = proc_df(raw_data[to_keep + ['Moulin']], 'Moulin')\n",
    "\n",
    "df_keep['timestampWeek'].astype(np.uint8)\n",
    "df_keep['timestampDayofweek'].astype(np.uint8)\n",
    "df_keep['timestampMinuteofday'].astype(np.uint16)\n",
    "\n",
    "X_train, X_valid = split_vals(df_keep, n_trn)\n",
    "\n",
    "for n in tqdm(range(Ntrials)):\n",
    "    m = RandomForestRegressor(n_jobs=-1, n_estimators=nb_trees, min_samples_leaf=min_leaves)\n",
    "    m.fit(X_train, y_train)\n",
    "    D = {\n",
    "        'feature set': '1',\n",
    "        'rmse (train)': rmse(m.predict(X_train), y_train),\n",
    "        'R2 (train)': m.score(X_train, y_train),\n",
    "        'rmse (valid)': rmse(m.predict(X_valid), y_valid),\n",
    "        'R2 (valid)': m.score(X_valid, y_valid)\n",
    "    }\n",
    "    performance_list.append(D)\n",
    "\n",
    "# Subset 2\n",
    "print(\"Use feature subset 2\")\n",
    "to_keep = ['timestamp'+feat for feat in ['Dayofyear', 'Dayofweek', 'Minuteofday']]\n",
    "\n",
    "df_keep, y_keep, nas = proc_df(raw_data[to_keep + ['Moulin']], 'Moulin')\n",
    "\n",
    "df_keep['timestampDayofyear'].astype(np.uint16)\n",
    "df_keep['timestampDayofweek'].astype(np.uint8)\n",
    "df_keep['timestampMinuteofday'].astype(np.uint16)\n",
    "X_train, X_valid = split_vals(df_keep, n_trn)\n",
    "\n",
    "for n in tqdm(range(Ntrials)):\n",
    "    m = RandomForestRegressor(n_jobs=-1, n_estimators=nb_trees, min_samples_leaf=min_leaves)\n",
    "    m.fit(X_train, y_train)\n",
    "    D = {\n",
    "        'feature set': '2',\n",
    "        'rmse (train)': rmse(m.predict(X_train), y_train),\n",
    "        'R2 (train)': m.score(X_train, y_train),\n",
    "        'rmse (valid)': rmse(m.predict(X_valid), y_valid),\n",
    "        'R2 (valid)': m.score(X_valid, y_valid)\n",
    "    }\n",
    "    performance_list.append(D)\n",
    "\n"
   ]
  },
  {
   "cell_type": "code",
   "execution_count": 37,
   "metadata": {},
   "outputs": [],
   "source": [
    "performance = pd.DataFrame(performance_list)[['feature set', 'rmse (train)', 'R2 (train)', 'rmse (valid)', 'R2 (valid)']]"
   ]
  },
  {
   "cell_type": "code",
   "execution_count": 38,
   "metadata": {},
   "outputs": [],
   "source": [
    "# performance['feature set'] = performance['feature set'].astype(pd.CategoricalDtype(ordered=True))\n",
    "performance['feature set'] = performance['feature set'].astype('category')"
   ]
  },
  {
   "cell_type": "code",
   "execution_count": 39,
   "metadata": {},
   "outputs": [
    {
     "data": {
      "text/plain": [
       "Index(['1', '2', 'all'], dtype='object')"
      ]
     },
     "execution_count": 39,
     "metadata": {},
     "output_type": "execute_result"
    }
   ],
   "source": [
    "performance['feature set'].cat.categories"
   ]
  },
  {
   "cell_type": "code",
   "execution_count": 40,
   "metadata": {},
   "outputs": [],
   "source": [
    "performance['feature set'] = performance['feature set'].cat.set_categories(['1', '2', 'all'])"
   ]
  },
  {
   "cell_type": "code",
   "execution_count": 41,
   "metadata": {},
   "outputs": [
    {
     "data": {
      "text/html": [
       "<div>\n",
       "<style scoped>\n",
       "    .dataframe tbody tr th:only-of-type {\n",
       "        vertical-align: middle;\n",
       "    }\n",
       "\n",
       "    .dataframe tbody tr th {\n",
       "        vertical-align: top;\n",
       "    }\n",
       "\n",
       "    .dataframe thead th {\n",
       "        text-align: right;\n",
       "    }\n",
       "</style>\n",
       "<table border=\"1\" class=\"dataframe\">\n",
       "  <thead>\n",
       "    <tr style=\"text-align: right;\">\n",
       "      <th></th>\n",
       "      <th>rmse (train)</th>\n",
       "      <th>R2 (train)</th>\n",
       "      <th>rmse (valid)</th>\n",
       "      <th>R2 (valid)</th>\n",
       "    </tr>\n",
       "    <tr>\n",
       "      <th>feature set</th>\n",
       "      <th></th>\n",
       "      <th></th>\n",
       "      <th></th>\n",
       "      <th></th>\n",
       "    </tr>\n",
       "  </thead>\n",
       "  <tbody>\n",
       "    <tr>\n",
       "      <th>1</th>\n",
       "      <td>3.085809</td>\n",
       "      <td>0.968563</td>\n",
       "      <td>6.630176</td>\n",
       "      <td>0.881480</td>\n",
       "    </tr>\n",
       "    <tr>\n",
       "      <th>2</th>\n",
       "      <td>2.843357</td>\n",
       "      <td>0.973309</td>\n",
       "      <td>6.840872</td>\n",
       "      <td>0.873824</td>\n",
       "    </tr>\n",
       "    <tr>\n",
       "      <th>all</th>\n",
       "      <td>2.755459</td>\n",
       "      <td>0.974934</td>\n",
       "      <td>7.181014</td>\n",
       "      <td>0.860958</td>\n",
       "    </tr>\n",
       "  </tbody>\n",
       "</table>\n",
       "</div>"
      ],
      "text/plain": [
       "             rmse (train)  R2 (train)  rmse (valid)  R2 (valid)\n",
       "feature set                                                    \n",
       "1                3.085809    0.968563      6.630176    0.881480\n",
       "2                2.843357    0.973309      6.840872    0.873824\n",
       "all              2.755459    0.974934      7.181014    0.860958"
      ]
     },
     "execution_count": 41,
     "metadata": {},
     "output_type": "execute_result"
    }
   ],
   "source": [
    "performance.groupby('feature set').mean()"
   ]
  },
  {
   "cell_type": "code",
   "execution_count": 42,
   "metadata": {},
   "outputs": [
    {
     "data": {
      "text/html": [
       "<div>\n",
       "<style scoped>\n",
       "    .dataframe tbody tr th:only-of-type {\n",
       "        vertical-align: middle;\n",
       "    }\n",
       "\n",
       "    .dataframe tbody tr th {\n",
       "        vertical-align: top;\n",
       "    }\n",
       "\n",
       "    .dataframe thead th {\n",
       "        text-align: right;\n",
       "    }\n",
       "</style>\n",
       "<table border=\"1\" class=\"dataframe\">\n",
       "  <thead>\n",
       "    <tr style=\"text-align: right;\">\n",
       "      <th></th>\n",
       "      <th>rmse (train)</th>\n",
       "      <th>R2 (train)</th>\n",
       "      <th>rmse (valid)</th>\n",
       "      <th>R2 (valid)</th>\n",
       "    </tr>\n",
       "    <tr>\n",
       "      <th>feature set</th>\n",
       "      <th></th>\n",
       "      <th></th>\n",
       "      <th></th>\n",
       "      <th></th>\n",
       "    </tr>\n",
       "  </thead>\n",
       "  <tbody>\n",
       "    <tr>\n",
       "      <th>1</th>\n",
       "      <td>0.005961</td>\n",
       "      <td>0.000121</td>\n",
       "      <td>0.007497</td>\n",
       "      <td>0.000268</td>\n",
       "    </tr>\n",
       "    <tr>\n",
       "      <th>2</th>\n",
       "      <td>0.006008</td>\n",
       "      <td>0.000113</td>\n",
       "      <td>0.038749</td>\n",
       "      <td>0.001431</td>\n",
       "    </tr>\n",
       "    <tr>\n",
       "      <th>all</th>\n",
       "      <td>0.006821</td>\n",
       "      <td>0.000124</td>\n",
       "      <td>0.064683</td>\n",
       "      <td>0.002505</td>\n",
       "    </tr>\n",
       "  </tbody>\n",
       "</table>\n",
       "</div>"
      ],
      "text/plain": [
       "             rmse (train)  R2 (train)  rmse (valid)  R2 (valid)\n",
       "feature set                                                    \n",
       "1                0.005961    0.000121      0.007497    0.000268\n",
       "2                0.006008    0.000113      0.038749    0.001431\n",
       "all              0.006821    0.000124      0.064683    0.002505"
      ]
     },
     "execution_count": 42,
     "metadata": {},
     "output_type": "execute_result"
    }
   ],
   "source": [
    "performance.groupby('feature set').std()"
   ]
  },
  {
   "cell_type": "code",
   "execution_count": 44,
   "metadata": {},
   "outputs": [
    {
     "data": {
      "image/png": "[encoded data removed]",
      "text/plain": [
       "<Figure size 1152x864 with 2 Axes>"
      ]
     },
     "metadata": {
      "needs_background": "light"
     },
     "output_type": "display_data"
    }
   ],
   "source": [
    "fig, (ax1, ax2) = plt.subplots(2, 1, figsize=(16, 12), sharex=True);\n",
    "\n",
    "ax1.plot(\n",
    "    performance['feature set'].cat.codes,\n",
    "    performance['R2 (train)'],\n",
    "    'o',\n",
    "    color=COL_TRAIN,\n",
    "    markersize=10,\n",
    "    alpha=3/Ntrials\n",
    ")\n",
    "ax2.plot(\n",
    "    performance['feature set'].cat.codes,\n",
    "    performance['R2 (valid)'],\n",
    "    'o',\n",
    "    color=COL_VALID,\n",
    "    markersize=10,\n",
    "    alpha=3/Ntrials\n",
    ")\n",
    "\n",
    "# ax2.plot(performance['feature set'].cat.codes, performance['R2 (valid)'], '.', color=COL_VALID)\n",
    "\n",
    "ax2.set_xticks(range(len(performance['feature set'].cat.categories)))\n",
    "ax2.set_xticklabels(performance['feature set'].cat.categories)\n",
    "\n",
    "ax2.set_xlabel('feature set', fontsize=14);\n",
    "ax1.set_ylabel('R2 score', fontsize=14);\n",
    "ax2.set_ylabel('R2 score', fontsize=14);\n",
    "\n",
    "# ax.legend(['training', 'validation'], loc='right');\n",
    "\n",
    "ax1.set_title(\"Training performance for the three feature sets\", fontsize=18);\n",
    "ax2.set_title(\"Validation performance for the three feature sets\", fontsize=18);\n",
    "\n",
    "\n",
    "ax1.grid();\n",
    "ax2.grid();\n",
    "#performance.plot.scatter('feature set', 'R2 (valid)')\n",
    "# ax.plot(performance['feature set'], performance['R2 (valid)'], )"
   ]
  },
  {
   "cell_type": "markdown",
   "metadata": {},
   "source": [
    "### Interpretation of results  \n",
    "\n",
    "The charts above shows that the three feature sets\n",
    "- subset \"1\",\n",
    "- subset \"2\", and\n",
    "- \"all\",\n",
    "\n",
    "are listed in  \n",
    "- increasing order of **training** performance; and\n",
    "- decreasing order of **validation** performance.  \n",
    "\n",
    "This can be interpreted in the following way.  This list of feature sets is ordered by decreasing level of over-fitting.  \n",
    "\n",
    "Furthermore, we also observe that the list is ordered in decreasing order of stability.  \n",
    "\n",
    "## Conclusion\n",
    "Using subset 1 is both more accurate and reliable.  "
   ]
  },
  {
   "cell_type": "markdown",
   "metadata": {},
   "source": [
    "### Visualization"
   ]
  },
  {
   "cell_type": "code",
   "execution_count": null,
   "metadata": {},
   "outputs": [],
   "source": [
    "to_keep = ['timestamp'+feat for feat in ['Week', 'Dayofweek', 'Minuteofday']]\n",
    "\n",
    "df_keep, y_keep, nas = proc_df(raw_data[to_keep + ['Moulin']], 'Moulin')\n",
    "\n",
    "df_keep['timestampWeek'].astype(np.uint8)\n",
    "df_keep['timestampDayofweek'].astype(np.uint8)\n",
    "df_keep['timestampMinuteofday'].astype(np.uint16)\n",
    "\n",
    "X_train, X_valid = split_vals(df_keep, n_trn)\n",
    "\n",
    "m = RandomForestRegressor(n_jobs=-1, n_estimators=nb_trees, min_samples_leaf=min_leaves)\n",
    "m.fit(X_train, y_train)\n",
    "y_predict = m.predict(X_valid)"
   ]
  },
  {
   "cell_type": "code",
   "execution_count": null,
   "metadata": {},
   "outputs": [],
   "source": [
    "fig, ax = plt.subplots(figsize=(18, 6));\n",
    "ax.plot(timestamps_valid['timestamp'], y_valid, COL_VALID);\n",
    "ax.plot(timestamps_valid['timestamp'], y_predict, COL_PREDICT);\n",
    "ax.set_title(\n",
    "    \"Rue du Fer à Moulin: RMSE = {0:.4g}, $R^2$ = {1:.3g} ({2} trees, {3} max features, {4} min leaves)\".format(\n",
    "        rmse(m.predict(X_valid), y_valid),\n",
    "        m.score(X_valid, y_valid),\n",
    "        nb_trees,\n",
    "        len(to_keep),\n",
    "        min_leaves\n",
    "    ),\n",
    "    fontsize=18\n",
    ");\n",
    "\n",
    "ax.set_ylabel(\"Available seats\", fontsize=14);\n",
    "ax.set_yticks(range(0, 80, 10));\n",
    "ax.set_xlabel(\"Timestamp\", fontsize=14);\n",
    "ax.legend(['actual', 'prediction'], loc='upper right')\n",
    "ax.grid();\n",
    "# plt.savefig(\"moulin-random-forests.png\");"
   ]
  },
  {
   "cell_type": "markdown",
   "metadata": {},
   "source": [
    "## Removing redundant features using hierarchical clustering"
   ]
  },
  {
   "cell_type": "code",
   "execution_count": null,
   "metadata": {},
   "outputs": [],
   "source": [
    "corr = np.round(scipy.stats.spearmanr(df_keep).correlation, 4)\n",
    "corr_condensed = hc.distance.squareform(1 - corr)\n",
    "z = hc.linkage(corr_condensed, method='average')\n",
    "\n",
    "fig = plt.figure(figsize=(16, 6));\n",
    "dendrogram = hc.dendrogram(z, labels=df_keep.columns, orientation='left', leaf_font_size=16);"
   ]
  },
  {
   "cell_type": "code",
   "execution_count": null,
   "metadata": {},
   "outputs": [],
   "source": [
    "for feat in ['timestampElapsed', 'timestampDayofyear']:\n",
    "    m = RandomForestRegressor(n_jobs=-1, n_estimators=nb_trees, min_samples_leaf=min_leaves)\n",
    "    x, _ = split_vals(df_keep.drop(feat, axis=1), n_trn)\n",
    "    m.fit(x, y_train)\n",
    "    print(\"Score with {0} removed: {1}\".format(feat.ljust(18), m.score(X_valid.drop(feat, axis=1), y_valid)))"
   ]
  },
  {
   "cell_type": "markdown",
   "metadata": {},
   "source": [
    "The difference is very small, but the score with `timestampElapsed` removed is consistently better than that with `Dayofyear` removed.  This is a bit counter-intuitive as its importance is definitely higher."
   ]
  },
  {
   "cell_type": "code",
   "execution_count": 48,
   "metadata": {},
   "outputs": [],
   "source": [
    "to_keep = ['timestamp'+feat for feat in ['Week', 'Dayofweek', 'Minuteofday']]\n",
    "\n",
    "df_keep, y_keep, nas = proc_df(raw_data[to_keep + ['Moulin']], 'Moulin')\n",
    "\n",
    "df_keep['timestampWeek'].astype(np.uint8)\n",
    "df_keep['timestampDayofweek'].astype(np.uint8)\n",
    "df_keep['timestampMinuteofday'].astype(np.uint16)\n",
    "\n",
    "X_train, X_valid = split_vals(df_keep, n_trn)\n",
    "\n",
    "m = RandomForestRegressor(n_jobs=-1, n_estimators=nb_trees, min_samples_leaf=min_leaves)\n",
    "m.fit(X_train, y_train)\n",
    "y_predict = m.predict(X_valid)"
   ]
  },
  {
   "cell_type": "code",
   "execution_count": null,
   "metadata": {},
   "outputs": [],
   "source": []
  }
 ],
 "metadata": {
  "kernelspec": {
   "display_name": "Python 3",
   "language": "python",
   "name": "python3"
  },
  "language_info": {
   "codemirror_mode": {
    "name": "ipython",
    "version": 3
   },
   "file_extension": ".py",
   "mimetype": "text/x-python",
   "name": "python",
   "nbconvert_exporter": "python",
   "pygments_lexer": "ipython3",
   "version": "3.6.8"
  }
 },
 "nbformat": 4,
 "nbformat_minor": 2
}
